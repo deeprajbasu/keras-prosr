{
 "cells": [
  {
   "cell_type": "code",
   "execution_count": 20,
   "metadata": {},
   "outputs": [],
   "source": [
    "# class ToVggInput(nn.Module):\n",
    "#     \"\"\"vgg input\"\"\"\n",
    "\n",
    "#     def __init__(self, orig_mean, orig_mul):\n",
    "#         super(ToVggInput, self).__init__()\n",
    "        \n",
    "#         self.orig_mean = nn.Parameter(\n",
    "#             torch.Tensor(orig_mean).view(1, 3, 1, 1), requires_grad=False)\n",
    "        \n",
    "#         self.orig_mul = nn.Parameter(\n",
    "#             torch.Tensor([orig_mul]), requires_grad=False)\n",
    "        \n",
    "#         self.mean = nn.Parameter(\n",
    "#             torch.Tensor([[[0.485]], [[0.456]], [[0.406]]]),\n",
    "#             requires_grad=False)\n",
    "        \n",
    "#         self.std = nn.Parameter(\n",
    "#             torch.Tensor([[[0.229]], [[0.224]], [[0.225]]]),\n",
    "#             requires_grad=False)\n",
    "\n",
    "#     def forward(self, x):\n",
    "#         return (x / self.orig_mul + self.orig_mean - self.mean) / self.std"
   ]
  },
  {
   "cell_type": "code",
   "execution_count": 21,
   "metadata": {},
   "outputs": [],
   "source": [
    "import tensorflow as tf\n",
    "from tensorflow import keras\n",
    "\n",
    "class ToVggInput(keras.layers.Layer):\n",
    "    \"\"\"vgg input\"\"\"\n",
    "    def __init__(self, orig_mean, orig_mul):\n",
    "        super(ToVggInput, self).__init__()\n",
    "        \n",
    "        self.orig_mean = tf.reshape(\n",
    "            tf.constant(orig_mean) , [1, 3, 1, 1], name=None\n",
    "            )        \n",
    "        self.orig_mul = tf.constant(orig_mul) \n",
    "        \n",
    "        self.mean = tf.constant([[[0.485]], [[0.456]], [[0.406]]])\n",
    "        \n",
    "        self.std = tf.constant([[[0.229]], [[0.224]], [[0.225]]])\n",
    "\n",
    "    def forward(self, x):\n",
    "        return (x / self.orig_mul + self.orig_mean - self.mean) / self.std"
   ]
  },
  {
   "cell_type": "code",
   "execution_count": 22,
   "metadata": {},
   "outputs": [
    {
     "data": {
      "text/plain": [
       "<tf.Tensor: shape=(1, 3, 1, 4), dtype=float32, numpy=\n",
       "array([[[[45.018684, 18.007471, 27.01121 , 45.018684]],\n",
       "\n",
       "        [[48.9505  , 19.5802  , 29.3703  , 48.9505  ]],\n",
       "\n",
       "        [[54.73454 , 21.893816, 32.840725, 54.73454 ]]]], dtype=float32)>"
      ]
     },
     "execution_count": 22,
     "metadata": {},
     "output_type": "execute_result"
    }
   ],
   "source": [
    "ToVggInput([[[0.485]], [[0.456]], [[0.406]]],\n",
    "           [[[0.485]], [[0.456]], [[0.406]]]).forward([5,2,3,5])"
   ]
  }
 ],
 "metadata": {
  "kernelspec": {
   "display_name": "Python 3",
   "language": "python",
   "name": "python3"
  },
  "language_info": {
   "codemirror_mode": {
    "name": "ipython",
    "version": 3
   },
   "file_extension": ".py",
   "mimetype": "text/x-python",
   "name": "python",
   "nbconvert_exporter": "python",
   "pygments_lexer": "ipython3",
   "version": "3.8.5"
  }
 },
 "nbformat": 4,
 "nbformat_minor": 4
}
